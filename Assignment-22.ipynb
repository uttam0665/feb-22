{
 "cells": [
  {
   "cell_type": "code",
   "execution_count": 2,
   "id": "4a7ae547",
   "metadata": {},
   "outputs": [
    {
     "name": "stdout",
     "output_type": "stream",
     "text": [
      "0     4\n",
      "1     8\n",
      "2    15\n",
      "3    16\n",
      "4    23\n",
      "5    42\n",
      "dtype: int64\n"
     ]
    }
   ],
   "source": [
    "#Q1. Create a Pandas Series that contains the following data: 4, 8, 15, 16, 23, and 42. Then, print the series.\n",
    "#Ans:-\n",
    "\n",
    "import pandas as pd\n",
    "data = [4, 8, 15, 16, 23, 42]\n",
    "my_series = pd.Series(data)\n",
    "print(my_series)\n"
   ]
  },
  {
   "cell_type": "code",
   "execution_count": 3,
   "id": "63578827",
   "metadata": {},
   "outputs": [
    {
     "name": "stdout",
     "output_type": "stream",
     "text": [
      "0     1\n",
      "1     2\n",
      "2     3\n",
      "3     4\n",
      "4     5\n",
      "5     6\n",
      "6     7\n",
      "7     8\n",
      "8     9\n",
      "9    10\n",
      "dtype: int64\n"
     ]
    }
   ],
   "source": [
    "#Q2. Create a variable of list type containing 10 elements in it, and apply pandas.Series function on the\n",
    "#variable print it.\n",
    "#Ans:-\n",
    "\n",
    "import pandas as pd\n",
    "my_list = [1, 2, 3, 4, 5, 6, 7, 8, 9, 10]\n",
    "my_series = pd.Series(my_list)\n",
    "\n",
    "print(my_series)\n"
   ]
  },
  {
   "cell_type": "code",
   "execution_count": 4,
   "id": "09220312",
   "metadata": {},
   "outputs": [
    {
     "name": "stdout",
     "output_type": "stream",
     "text": [
      "     Name  Age  Gender\n",
      "0   Alice   25  Female\n",
      "1     Bob   30    Male\n",
      "2  Claire   27  Female\n"
     ]
    }
   ],
   "source": [
    "#Q3. Create a Pandas DataFrame that contains the following data:\n",
    "#Then, print the DataFrame.\n",
    "\n",
    "import pandas as pd\n",
    "data = {'Name': ['Alice', 'Bob', 'Claire'], \n",
    "        'Age': [25, 30, 27], \n",
    "        'Gender': ['Female', 'Male', 'Female']}\n",
    "\n",
    "df = pd.DataFrame(data)\n",
    "\n",
    "print(df)\n"
   ]
  },
  {
   "cell_type": "code",
   "execution_count": 1,
   "id": "d206df7c",
   "metadata": {},
   "outputs": [],
   "source": [
    "'''Q4. What is ‘DataFrame’ in pandas and how is it different from pandas.series? Explain with an example.\n",
    "Ans:-\n",
    "    \n",
    "In Pandas, a DataFrame is a 2-dimensional labeled data structure with columns of potentially different types. It is similar to a spreadsheet or SQL table, where data is organized in rows and columns. On the other hand, a Pandas Series is a one-dimensional labeled array capable of holding data of any type.\n",
    "To better understand the difference between a Pandas DataFrame and a Series, let's consider an example. Suppose we have a dataset of students and their marks in three subjects - Math, Science, and English.\n",
    "We can create a Pandas Series for each subject as follows:'''\n",
    "    \n",
    "import pandas as pd\n",
    "math_marks = pd.Series([80, 75, 90, 60, 85], name='Math')\n",
    "science_marks = pd.Series([70, 85, 80, 65, 90], name='Science')\n",
    "english_marks = pd.Series([75, 80, 70, 85, 90], name='English')\n",
    "    "
   ]
  },
  {
   "cell_type": "code",
   "execution_count": 2,
   "id": "ee4ce2a9",
   "metadata": {},
   "outputs": [],
   "source": [
    "Here, each series contains marks of five students in a particular subject. The name parameter is used to give a name to each series.\n",
    "We can combine these series to form a Pandas DataFrame as follows:\n",
    "\n",
    "student_marks = pd.DataFrame({'Math': math_marks, 'Science': science_marks, 'English': english_marks})\n"
   ]
  },
  {
   "cell_type": "code",
   "execution_count": null,
   "id": "16050a77",
   "metadata": {},
   "outputs": [],
   "source": [
    "This creates a DataFrame with three columns - Math, Science, and English - and five rows, each corresponding to a student. The resulting DataFrame looks like this: \n",
    "    \n",
    "    Math  Science  English\n",
    "0    80       70       75\n",
    "1    75       85       80\n",
    "2    90       80       70\n",
    "3    60       65       85\n",
    "4    85       90       90\n"
   ]
  },
  {
   "cell_type": "code",
   "execution_count": null,
   "id": "4ce7ed59",
   "metadata": {},
   "outputs": [],
   "source": [
    "Q5. What are some common functions you can use to manipulate data in a Pandas DataFrame?\n",
    "Ans:-\n",
    "    \n",
    "There are many functions that you can use to manipulate data in a Pandas DataFrame. Here are some of the most commonly used functions:\n",
    "\n",
    "1.head() and tail(): These functions allow you to see the first or last n rows of your DataFrame, respectively.\n",
    "\n",
    "2.describe(): This function provides summary statistics for each column in your DataFrame, such as the count, mean, standard deviation, minimum, and maximum.\n",
    "\n",
    "3.info(): This function provides information about the DataFrame, including the data type of each column and the number of non-null values.\n",
    "\n",
    "4.drop(): This function allows you to drop a column or row from your DataFrame.\n",
    "\n",
    "5.fillna(): This function allows you to fill missing values in your DataFrame with a specified value.\n",
    "\n",
    "6.groupby(): This function allows you to group your DataFrame by one or more columns, and perform operations on each group.\n",
    "\n",
    "7.sort_values(): This function allows you to sort your DataFrame by one or more columns.\n",
    "\n",
    "8.pivot_table(): This function allows you to create a pivot table from your DataFrame.\n",
    "\n",
    "9.apply(): This function allows you to apply a function to each element, row, or column of your DataFrame.\n",
    "\n",
    "10.merge(): This function allows you to merge two or more DataFrames based on a common column.\n",
    "\n",
    "11.rename(): This function allows you to rename the columns or index of your DataFrame.\n",
    "\n",
    "12.loc[] and iloc[]: These functions allow you to select rows and columns from your DataFrame using labels or integer-based indexing, respectively.\n",
    "\n",
    "13.astype(): This function allows you to convert the data type of one or more columns in your DataFrame."
   ]
  },
  {
   "cell_type": "code",
   "execution_count": null,
   "id": "cd6cf61a",
   "metadata": {},
   "outputs": [],
   "source": [
    "Q6. Which of the following is mutable in nature Series, DataFrame, Panel?\n",
    "Ans:-\n",
    "\n",
    "In the pandas library of Python, both Series and DataFrame are mutable in nature, meaning that you can change their values after creation. However, Panel is not mutable in nature, which means that once created, its items cannot be changed.\n",
    "It is worth noting that in recent versions of pandas (since version 1.0.0), the Panel data structure has been deprecated in favor of other more efficient data structures like MultiIndex, and it's recommended to use those instead."
   ]
  },
  {
   "cell_type": "code",
   "execution_count": 3,
   "id": "b1897529",
   "metadata": {},
   "outputs": [
    {
     "name": "stdout",
     "output_type": "stream",
     "text": [
      "      Name  Age      City\n",
      "0    Alice   25  New York\n",
      "1      Bob   30    London\n",
      "2  Charlie   35     Paris\n"
     ]
    }
   ],
   "source": [
    "'''Q7. Create a DataFrame using multiple Series. Explain with an example.\n",
    "Ans:-\n",
    "   \n",
    "A Pandas DataFrame is a two-dimensional table-like data structure that allows you to store and manipulate tabular data in a flexible and easy way. You can create a DataFrame using multiple Series, which are one-dimensional labeled arrays that can store data of different types.\n",
    "To create a DataFrame using multiple Series, you can pass a dictionary of Series to the pd.DataFrame() constructor. Each Series will become a column of the DataFrame, and the keys of the dictionary will become the column names.\n",
    "Here's an example:'''\n",
    "\n",
    "import pandas as pd\n",
    "name = pd.Series(['Alice', 'Bob', 'Charlie'])\n",
    "age = pd.Series([25, 30, 35])\n",
    "city = pd.Series(['New York', 'London', 'Paris'])\n",
    "data = {'Name': name, 'Age': age, 'City': city}\n",
    "df = pd.DataFrame(data)\n",
    "print(df)\n",
    "\n"
   ]
  },
  {
   "cell_type": "code",
   "execution_count": null,
   "id": "fc191f60",
   "metadata": {},
   "outputs": [],
   "source": []
  }
 ],
 "metadata": {
  "kernelspec": {
   "display_name": "Python 3 (ipykernel)",
   "language": "python",
   "name": "python3"
  },
  "language_info": {
   "codemirror_mode": {
    "name": "ipython",
    "version": 3
   },
   "file_extension": ".py",
   "mimetype": "text/x-python",
   "name": "python",
   "nbconvert_exporter": "python",
   "pygments_lexer": "ipython3",
   "version": "3.9.13"
  }
 },
 "nbformat": 4,
 "nbformat_minor": 5
}
